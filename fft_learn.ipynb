{
  "cells": [
    {
      "cell_type": "markdown",
      "metadata": {
        "id": "view-in-github",
        "colab_type": "text"
      },
      "source": [
        "<a href=\"https://colab.research.google.com/github/aavella77/fft/blob/main/fft_learn.ipynb\" target=\"_parent\"><img src=\"https://colab.research.google.com/assets/colab-badge.svg\" alt=\"Open In Colab\"/></a>"
      ]
    },
    {
      "cell_type": "markdown",
      "source": [
        "# Fast Fourier Transform (FFT) Algorithm Tutorial\n",
        "By [Alejandro Avella](https://aavella77.github.io/)\n",
        "\n",
        "August 6th, 2022\n",
        "\n",
        "The Fourier Transform is a mathematical formula that allows to convert a time series from the time domain to the frequency domain.  See figure below, where we have a signal that looks random in the time domain, but it is just composed of 3 sine waves in the frequency domain. I have studied this mathematically in my undergrad and master studies, but never studied the Fast Fourier Transform (FFT) algorithm used by many applications.\n",
        "\n",
        "<img src=\"https://raw.githubusercontent.com/aavella77/fft/main/ftt-time-frequency.jpeg\" width=350>\n",
        "\n",
        "**Figure 1 - Time and Frequency domains (source: [Online Book from Berkeley](https://pythonnumericalmethods.berkeley.edu/notebooks/chapter24.00-Fourier-Transforms.html))**\n",
        "\n",
        "I was motivated to study the FFT algorithm when I watched a [video](https://www.youtube.com/watch?v=h7apO7q16V0) that showed the implementation is recursive and can be implemented in about 10 lines of Python code.  There are many things that we take for granted in today's world that are based on the FFT algorithm.  Some of the [applications](https://en.wikipedia.org/wiki/Fast_Fourier_transform#Applications) include Wifi, audio/video/image compression, GPS and celular networks just to name a few of them.\n",
        "\n",
        "This notebook can be executed in [Google Colab](https://colab.research.google.com/?utm_source=scs-index) and explores the Fast Fourier Algorithm as described the [1965 paper](https://github.com/aavella77/fft/blob/main/FFT-1965-paper-cooley-tukey.pdf) by James Cooley and John Tukey, but the idea actually can be traced back to Gauss’s unpublished work in 1805. I used the implementation suggested by the Reducible's online YouTube videos.\n",
        "\n",
        "**References:**\n",
        "* Reducible: The Fast Fourier Transform (FFT): Most Ingenious Algorithm Ever? [video](https://www.youtube.com/watch?v=h7apO7q16V0)\n",
        "* Reducible: FFT implementation Walkthrough [video](https://www.youtube.com/watch?v=Ty0JcR6Dvis)\n",
        "* Python Numerical Methods from University of California, Berkeley, Chapter 24 on the Fourier Transform available [here](https://pythonnumericalmethods.berkeley.edu/notebooks/chapter24.00-Fourier-Transforms.html)\n",
        "* 3Blue1Brown Fourier Transform [video](https://www.youtube.com/watch?v=spUNpyF58BY)\n",
        "\n",
        "**Libraries used:**\n",
        "*   [Numpy](https://numpy.org/)\n",
        "*   [Matplotlib](https://matplotlib.org/)\n"
      ],
      "metadata": {
        "id": "IEFJrXEEcR7N"
      }
    },
    {
      "cell_type": "code",
      "execution_count": 26,
      "metadata": {
        "id": "IzT5pbDwRdCM"
      },
      "outputs": [],
      "source": [
        "import numpy as np\n",
        "import matplotlib.pyplot as plt\n",
        "\n",
        "# print only 2 decimals\n",
        "np.set_printoptions(precision = 2, suppress = True)"
      ]
    },
    {
      "cell_type": "markdown",
      "source": [
        "## Table of Contents\n",
        "\n",
        "I introduce the algorithm in Python and try to reverse engineer what it does by executing in this Google Colab Notebook.  The Google Colab notebook has the following parts:\n",
        "\n",
        "*   FFT algorithm in Python  \n",
        "*   FFT with an input of 4 coefficients \n",
        "*   FFT sample run for the time domain signal\n",
        "*   FFT mathematical explanation\n"
      ],
      "metadata": {
        "id": "FW7NpA2pqxCM"
      }
    },
    {
      "cell_type": "markdown",
      "source": [
        "## FFT algorithm in Python (Reference: [Reducible video 1](https://www.youtube.com/watch?v=h7apO7q16V0))\n",
        "\n",
        "---\n",
        "\n"
      ],
      "metadata": {
        "id": "kCQ5xvGVxd1B"
      }
    },
    {
      "cell_type": "code",
      "source": [
        "def FFT(P):\n",
        "    \"\"\"\n",
        "    A recursive implementation of the\n",
        "    1D Cooley-Tukey FFT, using \n",
        "    Reducible's YouTube video implementation as a reference.\n",
        "    \"\"\"\n",
        "    # P - [po, p1,... pn-1] coefficient representation\n",
        "    n = len(P) # n is a power of 2\n",
        "    if n == 1:\n",
        "        return P \n",
        "    y_even = FFT(P[::2])\n",
        "    y_odd = FFT(P[1::2])  \n",
        "    y = [0] * n\n",
        "    for k in range(int(n/2)):\n",
        "        w_k = np.exp(2j*np.pi*k/n) \n",
        "        y[k] = y_even[k] + w_k*y_odd[k]\n",
        "        y[k + int(n/2)] = y_even[k] - w_k*y_odd[k]\n",
        "    return y    "
      ],
      "metadata": {
        "id": "VChoaBiI6k9k"
      },
      "execution_count": 27,
      "outputs": []
    },
    {
      "cell_type": "markdown",
      "metadata": {
        "id": "TxRXHHvrRDdl"
      },
      "source": [
        "Some notes regarding the implementation of FFT in Python:\n",
        "* The input of the FFT function is a list of samples in the time domain **x**.  FFT function returns **X** (note that it is capital letters) that it is the representation in the frequency domain.  **x** is a list of float numbers (real numbers), while the algorithm returns a list of complex numbers **X**.\n",
        "* FFT is a recursive algorithm.  For a recursive algorithm, the first thing you need to discover is the base case, which in this case when N (the number of samples) is equal to 1. For this case, we just return x with size 1.\n",
        "* We start finding N as length of the time domain amplitude samples **x**. Initially, is the number of samples, which in our case is 4 for the polynomial and 32 for the signal in the time domain.\n",
        "* We use [Python slicing](https://www.pythontutorial.net/advanced-python/python-slicing/), in particular with this format: **seq[start|stop|step]**\n",
        "> * x[::2] start at zero sample, end at last of the samples, with step 2 (every other samples). Gives even samples from the signal in the time domain (x).\n",
        "> * x[1::2] Starts at first sample (odd), end at last sample, with step 2 (every other sample). Gives odd samples from the signal in the time domain (x). \n",
        "* [Numpy exp](https://numpy.org/doc/stable/reference/generated/numpy.exp.html): Calculate the exponential of all elements in the input array.\n",
        "* [Numpy pi](https://numpy.org/doc/stable/reference/constants.html): The constant 3.1416 \n",
        "\n",
        "* The complex number i (square root of -1) is represented as j in Python\n",
        "\n",
        "Note: The following cell just adds print statements to be able to follow the runs.\n",
        "\n"
      ]
    },
    {
      "cell_type": "markdown",
      "source": [
        "# FFT with an input of 4 coefficients (Reference [Reducible video 2](https://www.youtube.com/watch?v=Ty0JcR6Dvis))\n",
        "We start by executing the FFT to a set of 4 samples to understand how the algorithm works.  The coefficients of a polynomial of grade 3 are [5,3,2,1]. This input could be samples of an audio signal or a pixel value of an image. Click on the play button below and watch the [Reducible video](https://www.youtube.com/watch?v=Ty0JcR6Dvis) and follow the output of the algorithm below is an array of complex numbers. The output of the algorithm is: <br> **y = [11, 3+2j, 3, 3-2j]**"
      ],
      "metadata": {
        "id": "NHdDWuXln36j"
      }
    },
    {
      "cell_type": "code",
      "source": [
        "X1=FFT([5,3,2,1])"
      ],
      "metadata": {
        "id": "Yjhu9m60nZrr"
      },
      "execution_count": 28,
      "outputs": []
    },
    {
      "cell_type": "code",
      "source": [
        "X = FFT([5, 3, 2, 1])\n",
        "print(\"The FFT is: \",X)"
      ],
      "metadata": {
        "colab": {
          "base_uri": "https://localhost:8080/"
        },
        "id": "QK9Z3OGHpssc",
        "outputId": "824a72c8-6d7d-4ba7-fdd6-1bf1f1e2cd61"
      },
      "execution_count": 29,
      "outputs": [
        {
          "output_type": "stream",
          "name": "stdout",
          "text": [
            "The FFT is:  [(11+0j), (3+2j), (3+0j), (3-2j)]\n"
          ]
        }
      ]
    },
    {
      "cell_type": "markdown",
      "source": [
        "<img src=\"https://raw.githubusercontent.com/aavella77/fft/main/sample-recursion-fft-run.png\" width=800>\n",
        "\n",
        "**Figure 2 - Sample recursion evaluation with 4 input values (Source: Reducible video)**"
      ],
      "metadata": {
        "id": "IKjxHcIVQkf2"
      }
    },
    {
      "cell_type": "markdown",
      "source": [
        "# FFT sample run for the time domain signal\n",
        "\n",
        "## Signal in the time domain:\n",
        "We study a signal **x** composed of 3 sine waves:\n",
        "\n",
        "> * Amplitude 3 Volts and frequency 1 Hz\n",
        "> * Amplitude 1 Volts and frequency 4 Hz\n",
        "> * Ampliture 0.5 Volts and frequency 7 Hz\n",
        "\n",
        "This produces an interesting waveform in the time domain, which could represent the voice of a person in the time domain.  We would like to apply the Fast Fourier Transform (FFT) to find the representation in the frequency domain.\n",
        "\n",
        "We sample this compound signal 32 times in one second (sampling rate = sr), which produces a sampling interval (1 sec / sr) of 0.03 secs.  We choose a convenient sampling rate which is a power of 2 which helps in the FFT algorithm.  Play with with different sr (e.g 128, 256, ...) and check the number of samples and precision of the graph produced."
      ],
      "metadata": {
        "id": "iRqVRtJbUWQg"
      }
    },
    {
      "cell_type": "code",
      "execution_count": 30,
      "metadata": {
        "colab": {
          "base_uri": "https://localhost:8080/",
          "height": 584
        },
        "id": "PSoWdCceUWhl",
        "outputId": "85256b56-920b-447d-8337-483b78afad82"
      },
      "outputs": [
        {
          "output_type": "display_data",
          "data": {
            "text/plain": [
              "<Figure size 576x432 with 1 Axes>"
            ],
            "image/png": "[encoded data removed]"
          },
          "metadata": {
            "needs_background": "light"
          }
        },
        {
          "output_type": "stream",
          "name": "stdout",
          "text": [
            "Series in the time domain:\n",
            "\n",
            "Signal x amplitudes in Volts:\n",
            " [ 0.    1.78  2.34  1.96  1.77  2.07  2.23  2.14  2.5   3.55  4.23  3.48\n",
            "  1.77  0.54  0.34  0.37  0.   -0.37 -0.34 -0.54 -1.77 -3.48 -4.23 -3.55\n",
            " -2.5  -2.14 -2.23 -2.07 -1.77 -1.96 -2.34 -1.78]\n",
            "\n",
            "Time samples in seconds:\n",
            " [0.   0.03 0.06 0.09 0.12 0.16 0.19 0.22 0.25 0.28 0.31 0.34 0.38 0.41\n",
            " 0.44 0.47 0.5  0.53 0.56 0.59 0.62 0.66 0.69 0.72 0.75 0.78 0.81 0.84\n",
            " 0.88 0.91 0.94 0.97]\n"
          ]
        }
      ],
      "source": [
        "# sampling rate\n",
        "sr = 32\n",
        "# sampling interval\n",
        "ts = 1.0/sr\n",
        "t = np.arange(0,1,ts)\n",
        "\n",
        "freq = 1.\n",
        "x = 3*np.sin(2*np.pi*freq*t)\n",
        "\n",
        "freq = 4\n",
        "x += np.sin(2*np.pi*freq*t)\n",
        "\n",
        "freq = 7   \n",
        "x += 0.5* np.sin(2*np.pi*freq*t)\n",
        "\n",
        "plt.figure(figsize = (8, 6))\n",
        "plt.plot(t, x, 'r')\n",
        "plt.ylabel('Amplitude')\n",
        "plt.xlabel('Seconds')\n",
        "\n",
        "plt.show()\n",
        "print(\"Series in the time domain:\\n\")\n",
        "print(\"Signal x amplitudes in Volts:\\n\", x)\n",
        "print(\"\\nTime samples in seconds:\\n\", t)\n"
      ]
    },
    {
      "cell_type": "code",
      "source": [
        "X=FFT(x)\n"
      ],
      "metadata": {
        "id": "C_qVUZwYm5WI"
      },
      "execution_count": 31,
      "outputs": []
    },
    {
      "cell_type": "markdown",
      "source": [
        "## Frequency Domain Spectrum Plots\n",
        "Note that the frequencies obtained are 1, 4 and 7 Hz and the amplitudes are 3, 1 and 0.5 Volts. In the time domain, it may be hard to see this pattern of 3 composing frequencies, but in the time domain the composing signals are very easy to identify. It just beatiful!\n",
        "\n"
      ],
      "metadata": {
        "id": "GZenj5dwDX57"
      }
    },
    {
      "cell_type": "code",
      "source": [
        "# calculate the frequency\n",
        "print(\"X returned by FFT fucntion is: \\n\", X)\n",
        "N = len(X)\n",
        "print(\"N:\", N)\n",
        "n = np.arange(N)\n",
        "print(\"n:\", n)\n",
        "T = N/sr\n",
        "freq = n/T \n",
        "\n",
        "plt.figure(figsize = (12, 6))\n",
        "plt.subplot(121)\n",
        "plt.stem(freq, abs(X), 'b', \\\n",
        "         markerfmt=\" \", basefmt=\"-b\", use_line_collection=True)\n",
        "plt.xlabel('Freq (Hz)')\n",
        "plt.ylabel('FFT Amplitude |X(freq)|')\n",
        "\n",
        "# Get the one-sided specturm\n",
        "n_oneside = N//2\n",
        "# get the one side frequency\n",
        "f_oneside = freq[:n_oneside]\n",
        "\n",
        "# normalize the amplitude\n",
        "X_oneside =X[:n_oneside]/n_oneside\n",
        "\n",
        "plt.subplot(122)\n",
        "plt.stem(f_oneside, abs(X_oneside), 'b', \\\n",
        "         markerfmt=\" \", basefmt=\"-b\", use_line_collection=True)\n",
        "plt.xlabel('Freq (Hz)')\n",
        "plt.ylabel('Normalized FFT Amplitude |X(freq)|')\n",
        "plt.tight_layout()\n",
        "plt.show()"
      ],
      "metadata": {
        "colab": {
          "base_uri": "https://localhost:8080/",
          "height": 728
        },
        "id": "avWY-UYoFgr1",
        "outputId": "845b83a3-855d-422d-9e90-9bcc47a64a72"
      },
      "execution_count": 32,
      "outputs": [
        {
          "output_type": "stream",
          "name": "stdout",
          "text": [
            "X returned by FFT fucntion is: \n",
            " [(-1.0261059297633496e-15+0j), (-3.552713678800501e-15+48j), (-3.4927641911070953e-15+1.9483574624333137e-15j), (-3.4029477820697914e-15-1.6425401207412074e-16j), (-3.644871679054846e-15+16.000000000000007j), (3.784588984575188e-15+2.0566194257106935e-15j), (2.6582333380842197e-15+1.2442352393663683e-15j), (-3.1658363562115366e-15+8.000000000000005j), (1.1943401194869637e-15+2.220446049250313e-15j), (4.218847493575595e-15+7.993605777301127e-15j), (4.386847221430893e-15-1.115525369321336e-15j), (1.6054189311461245e-15-1.5276449109580726e-15j), (2.4808382392282726e-15+5.329070518200751e-15j), (4.972239957695766e-15-2.7041310144221285e-15j), (3.0014009489400873e-15-5.7404736644551426e-15j), (6.493103958027326e-15+0j), (-3.690641188863726e-15+0j), (-1.7763568394002505e-15+0j), (3.0014009489400885e-15+5.740473664455142e-15j), (5.244765547016865e-15+3.985528266425397e-15j), (1.6841988391459049e-15-5.329070518200751e-15j), (2.370621814535084e-15+9.440849654614176e-16j), (4.386847221430893e-15+1.115525369321335e-15j), (5.4939032358646844e-15-8.881784197001252e-15j), (1.1943401194869633e-15-2.220446049250313e-15j), (-5.995204332975845e-15-8.000000000000004j), (2.6582333380842186e-15-1.244235239366369e-15j), (4.7616107420135986e-15-2.2936293433932034e-15j), (-6.400945957772979e-15-16.000000000000007j), (-4.0220233992050365e-15-2.965733767499822e-16j), (-3.4927641911070957e-15-1.948357462433313e-15j), (-2.192860547237668e-14-48j)]\n",
            "N: 32\n",
            "n: [ 0  1  2  3  4  5  6  7  8  9 10 11 12 13 14 15 16 17 18 19 20 21 22 23\n",
            " 24 25 26 27 28 29 30 31]\n"
          ]
        },
        {
          "output_type": "error",
          "ename": "TypeError",
          "evalue": "ignored",
          "traceback": [
            "\u001b[0;31m---------------------------------------------------------------------------\u001b[0m",
            "\u001b[0;31mTypeError\u001b[0m                                 Traceback (most recent call last)",
            "\u001b[0;32m<ipython-input-32-b54370b6ad0a>\u001b[0m in \u001b[0;36m<module>\u001b[0;34m()\u001b[0m\n\u001b[1;32m     10\u001b[0m \u001b[0mplt\u001b[0m\u001b[0;34m.\u001b[0m\u001b[0mfigure\u001b[0m\u001b[0;34m(\u001b[0m\u001b[0mfigsize\u001b[0m \u001b[0;34m=\u001b[0m \u001b[0;34m(\u001b[0m\u001b[0;36m12\u001b[0m\u001b[0;34m,\u001b[0m \u001b[0;36m6\u001b[0m\u001b[0;34m)\u001b[0m\u001b[0;34m)\u001b[0m\u001b[0;34m\u001b[0m\u001b[0;34m\u001b[0m\u001b[0m\n\u001b[1;32m     11\u001b[0m \u001b[0mplt\u001b[0m\u001b[0;34m.\u001b[0m\u001b[0msubplot\u001b[0m\u001b[0;34m(\u001b[0m\u001b[0;36m121\u001b[0m\u001b[0;34m)\u001b[0m\u001b[0;34m\u001b[0m\u001b[0;34m\u001b[0m\u001b[0m\n\u001b[0;32m---> 12\u001b[0;31m \u001b[0mplt\u001b[0m\u001b[0;34m.\u001b[0m\u001b[0mstem\u001b[0m\u001b[0;34m(\u001b[0m\u001b[0mfreq\u001b[0m\u001b[0;34m,\u001b[0m \u001b[0mabs\u001b[0m\u001b[0;34m(\u001b[0m\u001b[0mX\u001b[0m\u001b[0;34m)\u001b[0m\u001b[0;34m,\u001b[0m \u001b[0;34m'b'\u001b[0m\u001b[0;34m,\u001b[0m          \u001b[0mmarkerfmt\u001b[0m\u001b[0;34m=\u001b[0m\u001b[0;34m\" \"\u001b[0m\u001b[0;34m,\u001b[0m \u001b[0mbasefmt\u001b[0m\u001b[0;34m=\u001b[0m\u001b[0;34m\"-b\"\u001b[0m\u001b[0;34m,\u001b[0m \u001b[0muse_line_collection\u001b[0m\u001b[0;34m=\u001b[0m\u001b[0;32mTrue\u001b[0m\u001b[0;34m)\u001b[0m\u001b[0;34m\u001b[0m\u001b[0;34m\u001b[0m\u001b[0m\n\u001b[0m\u001b[1;32m     13\u001b[0m \u001b[0mplt\u001b[0m\u001b[0;34m.\u001b[0m\u001b[0mxlabel\u001b[0m\u001b[0;34m(\u001b[0m\u001b[0;34m'Freq (Hz)'\u001b[0m\u001b[0;34m)\u001b[0m\u001b[0;34m\u001b[0m\u001b[0;34m\u001b[0m\u001b[0m\n\u001b[1;32m     14\u001b[0m \u001b[0mplt\u001b[0m\u001b[0;34m.\u001b[0m\u001b[0mylabel\u001b[0m\u001b[0;34m(\u001b[0m\u001b[0;34m'FFT Amplitude |X(freq)|'\u001b[0m\u001b[0;34m)\u001b[0m\u001b[0;34m\u001b[0m\u001b[0;34m\u001b[0m\u001b[0m\n",
            "\u001b[0;31mTypeError\u001b[0m: bad operand type for abs(): 'list'"
          ]
        },
        {
          "output_type": "display_data",
          "data": {
            "text/plain": [
              "<Figure size 864x432 with 1 Axes>"
            ],
            "image/png": "[encoded data removed]"
          },
          "metadata": {
            "needs_background": "light"
          }
        }
      ]
    },
    {
      "cell_type": "markdown",
      "source": [
        "# FFT mathematical explanation\n",
        "There are four major clever ideas in FFT (Evaluation).\n",
        "\n",
        "1. Polynomial multiplication in value represenation: A polynomial can be either represented by its coeficients (Coefficient representation) or by pair value pairs (x, p(x)) (Value representation). All FFT does is to go from coefficient to value representation.\n",
        "2. Evaluation at +/- pairs, but recursion does not work, unless we expand to the complex domain.\n",
        "3. Evaluation points at nth roots of unity => FFT\n",
        "4. Inverse FFT (Interpolation) can be solved with a minor change on w variable."
      ],
      "metadata": {
        "id": "JdLN55RFMN8X"
      }
    },
    {
      "cell_type": "markdown",
      "source": [
        "**Figure 3 - FFT is going from Polynomial Coefficient representation to Value representation (source: Reducible video)**"
      ],
      "metadata": {
        "id": "kEHw_kpTN2Br"
      }
    },
    {
      "cell_type": "markdown",
      "source": [
        "**Figure 4 - Evaluation an Nth points (Source: Reducible video)**"
      ],
      "metadata": {
        "id": "f2Ms4EdiOb0i"
      }
    },
    {
      "cell_type": "markdown",
      "source": [
        "**Figure 5 - FFT implemenation Walktrough (Source: Reducible video)**"
      ],
      "metadata": {
        "id": "93UiNmM7QLgf"
      }
    }
  ],
  "metadata": {
    "colab": {
      "collapsed_sections": [],
      "name": "fft-learn.ipynb",
      "provenance": [],
      "include_colab_link": true
    },
    "kernelspec": {
      "display_name": "Python 3",
      "name": "python3"
    },
    "language_info": {
      "name": "python"
    }
  },
  "nbformat": 4,
  "nbformat_minor": 0
}