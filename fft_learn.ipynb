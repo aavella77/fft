{
  "cells": [
    {
      "cell_type": "markdown",
      "metadata": {
        "id": "view-in-github",
        "colab_type": "text"
      },
      "source": [
        "<a href=\"https://colab.research.google.com/github/aavella77/fft/blob/main/fft_learn.ipynb\" target=\"_parent\"><img src=\"https://colab.research.google.com/assets/colab-badge.svg\" alt=\"Open In Colab\"/></a>"
      ]
    },
    {
      "cell_type": "markdown",
      "metadata": {
        "id": "TxRXHHvrRDdl"
      },
      "source": [
        "* From Python Numerical Methods from Berkeley Chapter 24 available [here](https://pythonnumericalmethods.berkeley.edu/notebooks/chapter24.00-Fourier-Transforms.html)\n",
        "* This algorithm uses [Python slicing](https://www.pythontutorial.net/advanced-python/python-slicing/), in particular **seq[start|stop|step]**"
      ]
    },
    {
      "cell_type": "code",
      "execution_count": 1,
      "metadata": {
        "id": "IzT5pbDwRdCM"
      },
      "outputs": [],
      "source": [
        "import numpy as np\n",
        "import matplotlib.pyplot as plt"
      ]
    },
    {
      "cell_type": "code",
      "execution_count": 9,
      "metadata": {
        "id": "BphcOs0uYDn-"
      },
      "outputs": [],
      "source": [
        "def FFT(x):\n",
        "    \"\"\"\n",
        "    A recursive implementation of \n",
        "    the 1D Cooley-Tukey FFT, the \n",
        "    input should have a length of \n",
        "    power of 2. \n",
        "    \"\"\"\n",
        "    N = len(x)\n",
        "    \n",
        "    if N == 1:\n",
        "        return x\n",
        "    else:\n",
        "        print(\"N: \", N)\n",
        "        print(\"x: \", x)\n",
        "        X_even = FFT(x[::2])\n",
        "        print(\"X_even: \", X_even)\n",
        "        X_odd = FFT(x[1::2])\n",
        "        # print(\"X_odd: \", X_odd)       \n",
        "        factor = \\\n",
        "          np.exp(-2j*np.pi*np.arange(N)/ N)\n",
        "        \n",
        "        X = np.concatenate(\\\n",
        "            [X_even+factor[:int(N/2)]*X_odd,\n",
        "             X_even+factor[int(N/2):]*X_odd])\n",
        "        return X"
      ]
    },
    {
      "cell_type": "code",
      "execution_count": 12,
      "metadata": {
        "colab": {
          "base_uri": "https://localhost:8080/",
          "height": 374
        },
        "id": "PSoWdCceUWhl",
        "outputId": "0a89bc7f-8b1e-4f1d-8045-09854667f325"
      },
      "outputs": [
        {
          "output_type": "display_data",
          "data": {
            "text/plain": [
              "<Figure size 576x432 with 1 Axes>"
            ],
            "image/png": "[encoded data removed]"
          },
          "metadata": {
            "needs_background": "light"
          }
        }
      ],
      "source": [
        "# sampling rate\n",
        "sr = 32\n",
        "# sampling interval\n",
        "ts = 1.0/sr\n",
        "t = np.arange(0,1,ts)\n",
        "\n",
        "freq = 1.\n",
        "x = 3*np.sin(2*np.pi*freq*t)\n",
        "\n",
        "freq = 4\n",
        "x += np.sin(2*np.pi*freq*t)\n",
        "\n",
        "freq = 7   \n",
        "x += 0.5* np.sin(2*np.pi*freq*t)\n",
        "\n",
        "plt.figure(figsize = (8, 6))\n",
        "plt.plot(t, x, 'r')\n",
        "plt.ylabel('Amplitude')\n",
        "\n",
        "plt.show()"
      ]
    },
    {
      "cell_type": "code",
      "source": [
        "X=FFT(x)\n"
      ],
      "metadata": {
        "colab": {
          "base_uri": "https://localhost:8080/"
        },
        "id": "C_qVUZwYm5WI",
        "outputId": "e48e06e6-fa10-4a58-d2fd-f16803063a7b"
      },
      "execution_count": 13,
      "outputs": [
        {
          "output_type": "stream",
          "name": "stdout",
          "text": [
            "N:  32\n",
            "x:  [ 0.00000000e+00  1.78277039e+00  2.33939201e+00  1.95808267e+00\n",
            "  1.76776695e+00  2.06508717e+00  2.23357836e+00  2.13770390e+00\n",
            "  2.50000000e+00  3.55191746e+00  4.23357836e+00  3.47930073e+00\n",
            "  1.76776695e+00  5.43869112e-01  3.39392013e-01  3.68556825e-01\n",
            "  3.06161700e-16 -3.68556825e-01 -3.39392013e-01 -5.43869112e-01\n",
            " -1.76776695e+00 -3.47930073e+00 -4.23357836e+00 -3.55191746e+00\n",
            " -2.50000000e+00 -2.13770390e+00 -2.23357836e+00 -2.06508717e+00\n",
            " -1.76776695e+00 -1.95808267e+00 -2.33939201e+00 -1.78277039e+00]\n",
            "N:  16\n",
            "x:  [ 0.00000000e+00  2.33939201e+00  1.76776695e+00  2.23357836e+00\n",
            "  2.50000000e+00  4.23357836e+00  1.76776695e+00  3.39392013e-01\n",
            "  3.06161700e-16 -3.39392013e-01 -1.76776695e+00 -4.23357836e+00\n",
            " -2.50000000e+00 -2.23357836e+00 -1.76776695e+00 -2.33939201e+00]\n",
            "N:  8\n",
            "x:  [ 0.00000000e+00  1.76776695e+00  2.50000000e+00  1.76776695e+00\n",
            "  3.06161700e-16 -1.76776695e+00 -2.50000000e+00 -1.76776695e+00]\n",
            "N:  4\n",
            "x:  [ 0.000000e+00  2.500000e+00  3.061617e-16 -2.500000e+00]\n",
            "N:  2\n",
            "x:  [0.000000e+00 3.061617e-16]\n",
            "X_even:  [0.]\n",
            "X_even:  [ 3.061617e-16+0.00000000e+00j -3.061617e-16-3.74939946e-32j]\n",
            "N:  2\n",
            "x:  [ 2.5 -2.5]\n",
            "X_even:  [2.5]\n",
            "X_even:  [-1.02610593e-15+0.00000000e+00j  3.06161700e-16-5.00000000e+00j\n",
            "  1.63842933e-15+1.63155729e-31j -1.53080850e-15+5.00000000e+00j]\n",
            "N:  4\n",
            "x:  [ 1.76776695  1.76776695 -1.76776695 -1.76776695]\n",
            "N:  2\n",
            "x:  [ 1.76776695 -1.76776695]\n",
            "X_even:  [1.76776695]\n",
            "X_even:  [8.88178420e-16+0.00000000e+00j 3.53553391e+00+2.16489014e-16j]\n",
            "N:  2\n",
            "x:  [ 1.76776695 -1.76776695]\n",
            "X_even:  [1.76776695]\n",
            "X_even:  [-5.82016720e-16+0.00000000e+00j -1.47019514e-15-1.00000000e+01j\n",
            "  1.63842933e-15-1.33226763e-15j  2.02190518e-15+8.88178420e-16j\n",
            " -1.47019514e-15-5.43852429e-32j  1.63842933e-15+8.88178420e-16j\n",
            "  1.63842933e-15+1.33226763e-15j -5.52761139e-15+1.00000000e+01j]\n",
            "N:  8\n",
            "x:  [ 2.33939201  2.23357836  4.23357836  0.33939201 -0.33939201 -4.23357836\n",
            " -2.23357836 -2.33939201]\n",
            "N:  4\n",
            "x:  [ 2.33939201  4.23357836 -0.33939201 -2.23357836]\n",
            "N:  2\n",
            "x:  [ 2.33939201 -0.33939201]\n",
            "X_even:  [2.33939201]\n",
            "X_even:  [2.        +0.00000000e+00j 2.67878403+4.15635343e-17j]\n",
            "N:  2\n",
            "x:  [ 4.23357836 -2.23357836]\n",
            "X_even:  [4.23357836]\n",
            "X_even:  [4.00000000e+00+0.00000000e+00j 2.67878403e+00-6.46715673e+00j\n",
            " 4.44089210e-16-2.44929360e-16j 2.67878403e+00+6.46715673e+00j]\n",
            "N:  4\n",
            "x:  [ 2.23357836  0.33939201 -4.23357836 -2.33939201]\n",
            "N:  2\n",
            "x:  [ 2.23357836 -4.23357836]\n",
            "X_even:  [2.23357836]\n",
            "X_even:  [-2.        +0.00000000e+00j  6.46715673+5.18463819e-16j]\n",
            "N:  2\n",
            "x:  [ 0.33939201 -2.33939201]\n",
            "X_even:  [0.33939201]\n",
            "X_even:  [-2.35837356e-15+0.00000000e+00j -2.35837356e-15-2.40000000e+01j\n",
            " -2.45681621e-16-4.19079799e-15j  1.06054779e-15-1.43274364e-15j\n",
            " -4.90477700e-16-8.00000000e+00j  3.10962347e-15-2.01888844e-16j\n",
            "  3.52254028e-15-8.33497882e-16j  1.57781597e-15-4.00000000e+00j\n",
            "  1.19434012e-15+2.17540972e-31j -3.24655198e-15+4.00000000e+00j\n",
            "  3.52254028e-15+1.52626273e-15j  2.98326257e-15+3.20910048e-15j\n",
            " -3.42963002e-15+8.00000000e+00j  1.67235186e-16+1.97824568e-15j\n",
            " -2.45681621e-16+3.49803314e-15j -2.06266445e-14+2.40000000e+01j]\n",
            "N:  16\n",
            "x:  [ 1.78277039  1.95808267  2.06508717  2.1377039   3.55191746  3.47930073\n",
            "  0.54386911  0.36855683 -0.36855683 -0.54386911 -3.47930073 -3.55191746\n",
            " -2.1377039  -2.06508717 -1.95808267 -1.78277039]\n",
            "N:  8\n",
            "x:  [ 1.78277039  2.06508717  3.55191746  0.54386911 -0.36855683 -3.47930073\n",
            " -2.1377039  -1.95808267]\n",
            "N:  4\n",
            "x:  [ 1.78277039  3.55191746 -0.36855683 -2.1377039 ]\n",
            "N:  2\n",
            "x:  [ 1.78277039 -0.36855683]\n",
            "X_even:  [1.78277039]\n",
            "X_even:  [1.41421356+0.00000000e+00j 2.15132721+4.51351936e-17j]\n",
            "N:  2\n",
            "x:  [ 3.55191746 -2.1377039 ]\n",
            "X_even:  [3.55191746]\n",
            "X_even:  [ 2.82842712e+00+0.00000000e+00j  2.15132721e+00-5.68962136e+00j\n",
            " -1.99840144e-15-1.73191211e-16j  2.15132721e+00+5.68962136e+00j]\n",
            "N:  4\n",
            "x:  [ 2.06508717  0.54386911 -3.47930073 -1.95808267]\n",
            "N:  2\n",
            "x:  [ 2.06508717 -3.47930073]\n",
            "X_even:  [2.06508717]\n",
            "X_even:  [-1.41421356+0.00000000e+00j  5.54438791+4.26091451e-16j]\n",
            "N:  2\n",
            "x:  [ 0.54386911 -1.95808267]\n",
            "X_even:  [0.54386911]\n",
            "X_even:  [ 1.77635684e-15+0.00000000e+00j  4.30265443e+00-1.13792427e+01j\n",
            " -1.82521023e-15+4.92942604e-16j -2.22044605e-15-8.88178420e-16j\n",
            "  5.65685425e+00+3.46382422e-16j -3.10862447e-15+0.00000000e+00j\n",
            " -2.17159266e-15-8.39325026e-16j  4.30265442e+00+1.13792427e+01j]\n",
            "N:  8\n",
            "x:  [ 1.95808267  2.1377039   3.47930073  0.36855683 -0.54386911 -3.55191746\n",
            " -2.06508717 -1.78277039]\n",
            "N:  4\n",
            "x:  [ 1.95808267  3.47930073 -0.54386911 -2.06508717]\n",
            "N:  2\n",
            "x:  [ 1.95808267 -0.54386911]\n",
            "X_even:  [1.95808267]\n",
            "X_even:  [1.41421356+0.00000000e+00j 2.50195179+6.66047567e-17j]\n",
            "N:  2\n",
            "x:  [ 3.47930073 -2.06508717]\n",
            "X_even:  [3.47930073]\n",
            "X_even:  [ 2.82842712e+00+0.00000000e+00j  2.50195179e+00-5.54438791e+00j\n",
            " -1.11022302e-15-1.73191211e-16j  2.50195179e+00+5.54438791e+00j]\n",
            "N:  4\n",
            "x:  [ 2.1377039   0.36855683 -3.55191746 -1.78277039]\n",
            "N:  2\n",
            "x:  [ 2.1377039  -3.55191746]\n",
            "X_even:  [2.1377039]\n",
            "X_even:  [-1.41421356+0.00000000e+00j  5.68962136+4.34984435e-16j]\n",
            "N:  2\n",
            "x:  [ 0.36855683 -1.78277039]\n",
            "X_even:  [0.36855683]\n"
          ]
        }
      ]
    },
    {
      "cell_type": "code",
      "source": [
        "# calculate the frequency\n",
        "N = len(X)\n",
        "n = np.arange(N)\n",
        "T = N/sr\n",
        "freq = n/T \n",
        "\n",
        "plt.figure(figsize = (12, 6))\n",
        "plt.subplot(121)\n",
        "plt.stem(freq, abs(X), 'b', \\\n",
        "         markerfmt=\" \", basefmt=\"-b\")\n",
        "plt.xlabel('Freq (Hz)')\n",
        "plt.ylabel('FFT Amplitude |X(freq)|')\n",
        "\n",
        "# Get the one-sided specturm\n",
        "n_oneside = N//2\n",
        "# get the one side frequency\n",
        "f_oneside = freq[:n_oneside]\n",
        "\n",
        "# normalize the amplitude\n",
        "X_oneside =X[:n_oneside]/n_oneside\n",
        "\n",
        "plt.subplot(122)\n",
        "plt.stem(f_oneside, abs(X_oneside), 'b', \\\n",
        "         markerfmt=\" \", basefmt=\"-b\")\n",
        "plt.xlabel('Freq (Hz)')\n",
        "plt.ylabel('Normalized FFT Amplitude |X(freq)|')\n",
        "plt.tight_layout()\n",
        "plt.show()"
      ],
      "metadata": {
        "colab": {
          "base_uri": "https://localhost:8080/",
          "height": 513
        },
        "id": "avWY-UYoFgr1",
        "outputId": "3db7dc48-0dd3-4b35-e16b-82d89b5bba9f"
      },
      "execution_count": 5,
      "outputs": [
        {
          "output_type": "stream",
          "name": "stderr",
          "text": [
            "/usr/local/lib/python3.7/dist-packages/ipykernel_launcher.py:9: UserWarning: In Matplotlib 3.3 individual lines on a stem plot will be added as a LineCollection instead of individual lines. This significantly improves the performance of a stem plot. To remove this warning and switch to the new behaviour, set the \"use_line_collection\" keyword argument to True.\n",
            "  if __name__ == '__main__':\n",
            "/usr/local/lib/python3.7/dist-packages/ipykernel_launcher.py:22: UserWarning: In Matplotlib 3.3 individual lines on a stem plot will be added as a LineCollection instead of individual lines. This significantly improves the performance of a stem plot. To remove this warning and switch to the new behaviour, set the \"use_line_collection\" keyword argument to True.\n"
          ]
        },
        {
          "output_type": "display_data",
          "data": {
            "text/plain": [
              "<Figure size 864x432 with 2 Axes>"
            ],
            "image/png": "[encoded data removed]"
          },
          "metadata": {
            "needs_background": "light"
          }
        }
      ]
    }
  ],
  "metadata": {
    "colab": {
      "collapsed_sections": [],
      "name": "fft-learn.ipynb",
      "provenance": [],
      "authorship_tag": "ABX9TyNJkXv8pTSSmjA9X/he6Ht2",
      "include_colab_link": true
    },
    "kernelspec": {
      "display_name": "Python 3",
      "name": "python3"
    },
    "language_info": {
      "name": "python"
    }
  },
  "nbformat": 4,
  "nbformat_minor": 0
}